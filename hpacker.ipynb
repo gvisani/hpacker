{
 "cells": [
  {
   "cell_type": "code",
   "execution_count": 17,
   "metadata": {},
   "outputs": [],
   "source": [
    "from hpacker import HPacker"
   ]
  },
  {
   "attachments": {},
   "cell_type": "markdown",
   "metadata": {},
   "source": [
    "# Quick Start - right to packing"
   ]
  },
  {
   "attachments": {},
   "cell_type": "markdown",
   "metadata": {},
   "source": [
    "## 1) Bare Backbone + Sequence information"
   ]
  },
  {
   "cell_type": "code",
   "execution_count": 18,
   "metadata": {},
   "outputs": [],
   "source": [
    "# Initialize HPacker object by passing it a tutple of paths to the pre-trained models,\n",
    "# and the backbone-only structure that we want to add side-chains to.\n",
    "hpacker = HPacker('T0950_bb_only.pdb')"
   ]
  },
  {
   "attachments": {},
   "cell_type": "markdown",
   "metadata": {},
   "source": [
    "There are **three** equivalent ways of telling HPacker which amino-acid should correspond to which site.\\\n",
    "The **first** - and simplest - way is to have the input PDB file already contain sequence information (as is the case in our working example).\n",
    "All we need to do then is a simple call to `.reconstruct_sidechains()`."
   ]
  },
  {
   "cell_type": "code",
   "execution_count": 19,
   "metadata": {},
   "outputs": [
    {
     "name": "stdout",
     "output_type": "stream",
     "text": [
      "All sidechains are missing in the structure. Using the initial guess model.\n"
     ]
    }
   ],
   "source": [
    "chi_trace = hpacker.reconstruct_sidechains(num_refinement_iterations=5, return_trace_of_predicted_angles=True)\n",
    "\n",
    "# the reconstructed structure will be saved internally in `hpacker.structure`, and can be easiuly saved in a PDB file\n",
    "hpacker.write_pdb('reconstructed_from_bb_only_T0950.pdb')"
   ]
  },
  {
   "cell_type": "code",
   "execution_count": 20,
   "metadata": {},
   "outputs": [
    {
     "name": "stdout",
     "output_type": "stream",
     "text": [
      "(' ', 12, ' '): [178.8607940673828]\n",
      "(' ', 13, ' '): [-46.83998489379883]\n",
      "(' ', 14, ' '): [-53.04864501953125, -32.65345001220703]\n",
      "(' ', 15, ' '): [19.594274520874023, -25.412826538085938]\n",
      "(' ', 16, ' '): [-157.41934204101562, 176.36685180664062, 175.0377960205078]\n",
      "(' ', 17, ' '): [-57.67374038696289, 170.25657653808594]\n",
      "(' ', 18, ' '): [-174.62457275390625, -20.914920806884766]\n",
      "(' ', 19, ' '): [-60.83747100830078]\n",
      "(' ', 20, ' '): [-70.23597717285156, -179.6685791015625, 176.46070861816406, 179.88401794433594]\n",
      "(' ', 21, ' '): [-63.55720520019531]\n"
     ]
    }
   ],
   "source": [
    "# `chi_trace` contains a record of the predicted chi angles across refinement iterations. it is a list of dictionaries\n",
    "# within each dictionary, chi angles for individual residues are indexed by residue IDs (res_id), which are Tuples of (chain, resnum, icode)\n",
    "initial_guess_chis = chi_trace[0]\n",
    "final_chis = chi_trace[-1]\n",
    "\n",
    "res_ids = hpacker.get_res_ids()\n",
    "for i in range(10):\n",
    "    res_id = res_ids[i]\n",
    "    print(f'{res_id}: {final_chis[res_id]}')"
   ]
  },
  {
   "attachments": {},
   "cell_type": "markdown",
   "metadata": {},
   "source": [
    "The **second** way of introducing sequence information is to tell HPacker via the `.update_resnames()` method, before reconstructing."
   ]
  },
  {
   "cell_type": "code",
   "execution_count": 21,
   "metadata": {},
   "outputs": [],
   "source": [
    "# res_id_to_resname = {} # dictionary: res_id --> three-letter amino-acid code\n",
    "# hpacker.update_resnames(res_id_to_resname)"
   ]
  },
  {
   "attachments": {},
   "cell_type": "markdown",
   "metadata": {},
   "source": [
    "**Third**, the same information can be passed directly into the reconstruction function."
   ]
  },
  {
   "cell_type": "code",
   "execution_count": 22,
   "metadata": {},
   "outputs": [],
   "source": [
    "# hpacker.reconstruct_sidechains(num_refinement_iterations=5, res_id_to_resname=res_id_to_resname)"
   ]
  },
  {
   "cell_type": "code",
   "execution_count": null,
   "metadata": {},
   "outputs": [],
   "source": []
  },
  {
   "attachments": {},
   "cell_type": "markdown",
   "metadata": {},
   "source": [
    "## 2) Repacking an All-Atom structure"
   ]
  },
  {
   "cell_type": "code",
   "execution_count": 23,
   "metadata": {},
   "outputs": [],
   "source": [
    "# when passing as input a structure that already has side-chains and that you want to re-pack from zero,\n",
    "# you should toggle the `remove_sidechains` flag\n",
    "hpacker = HPacker('T0950.pdb', remove_sidechains=True)"
   ]
  },
  {
   "cell_type": "code",
   "execution_count": 24,
   "metadata": {},
   "outputs": [
    {
     "name": "stdout",
     "output_type": "stream",
     "text": [
      "All sidechains are missing in the structure. Using the initial guess model.\n"
     ]
    }
   ],
   "source": [
    "# as sequence information is already available, repacking the side-chains is a one-liner\n",
    "hpacker.reconstruct_sidechains(num_refinement_iterations = 5)\n",
    "hpacker.write_pdb('reconstructed_from_AA_v1_T0950.pdb')"
   ]
  },
  {
   "cell_type": "code",
   "execution_count": 25,
   "metadata": {},
   "outputs": [
    {
     "name": "stdout",
     "output_type": "stream",
     "text": [
      "Reconstructing all sidechains from scratch\n"
     ]
    }
   ],
   "source": [
    "# alternatively, you can just set `reconstruct_all_sidechains` to `True` when reconstructing\n",
    "hpacker = HPacker('T0950.pdb')\n",
    "hpacker.reconstruct_sidechains(num_refinement_iterations = 5, reconstruct_all_sidechains=True)\n",
    "hpacker.write_pdb('reconstructed_from_AA_v2_T0950.pdb')"
   ]
  },
  {
   "attachments": {},
   "cell_type": "markdown",
   "metadata": {},
   "source": [
    "#### If you want to evaluate against ground truth...\n",
    "\n",
    "We provide a custom function that assumes the input structure is the ground truth, and returns several metrics comparing the reconstructed side-chains with the original ones"
   ]
  },
  {
   "cell_type": "code",
   "execution_count": 26,
   "metadata": {},
   "outputs": [
    {
     "name": "stdout",
     "output_type": "stream",
     "text": [
      "All residues: 309\n",
      "Core residues: 79\n",
      "Surface residues: 147\n",
      "Accuracy:\t76\t66\t46\t62\t\n",
      "MAE:\t19\t29\t41\t36\t\n",
      "\n",
      "All residues: 309\n",
      "Core residues: 79\n",
      "Surface residues: 147\n",
      "Accuracy:\t77\t70\t47\t62\t\n",
      "MAE:\t19\t29\t39\t36\t\n",
      "\n",
      "All residues: 309\n",
      "Core residues: 79\n",
      "Surface residues: 147\n",
      "Accuracy:\t76\t69\t49\t66\t\n",
      "MAE:\t18\t27\t38\t34\t\n",
      "\n",
      "All residues: 309\n",
      "Core residues: 79\n",
      "Surface residues: 147\n",
      "Accuracy:\t77\t71\t48\t66\t\n",
      "MAE:\t18\t27\t38\t36\t\n",
      "\n",
      "All residues: 309\n",
      "Core residues: 79\n",
      "Surface residues: 147\n",
      "Accuracy:\t76\t69\t49\t64\t\n",
      "MAE:\t19\t28\t37\t38\t\n",
      "\n",
      "All residues: 309\n",
      "Core residues: 79\n",
      "Surface residues: 147\n",
      "Accuracy:\t77\t70\t47\t66\t\n",
      "MAE:\t18\t27\t38\t36\t\n",
      "\n",
      "tensor([18.4906, 27.3550, 38.4248, 36.0792], dtype=torch.float64)\n",
      "dict_keys(['all', 'core', 'surface'])\n",
      "(' ', 12, ' '): 0.107 Angstroms\n",
      "(' ', 13, ' '): 1.928 Angstroms\n",
      "(' ', 14, ' '): 0.298 Angstroms\n",
      "(' ', 15, ' '): 0.497 Angstroms\n",
      "(' ', 16, ' '): 2.035 Angstroms\n",
      "(' ', 17, ' '): 0.182 Angstroms\n",
      "(' ', 18, ' '): 0.294 Angstroms\n",
      "(' ', 19, ' '): 0.181 Angstroms\n",
      "(' ', 20, ' '): 2.930 Angstroms\n",
      "(' ', 21, ' '): 0.107 Angstroms\n"
     ]
    }
   ],
   "source": [
    "hpacker = HPacker('T0950.pdb', remove_sidechains=True)\n",
    "\n",
    "metrics = hpacker.reconstruct_sidechains_and_evaluate(num_refinement_iterations = 5)\n",
    "\n",
    "mae_per_angle_4, accuracy_per_angle_4, real_chis, predicted_chis, aas, res_ids_dict, rmsds = metrics\n",
    "\n",
    "print(mae_per_angle_4)\n",
    "print(rmsds.keys())\n",
    "res_id_to_rmsd = dict(zip(res_ids_dict['all'], rmsds['all']))\n",
    "for i in range(10):\n",
    "    print('%s: %.3f Angstroms' % (res_ids_dict['all'][i], rmsds['all'][i]))"
   ]
  },
  {
   "attachments": {},
   "cell_type": "markdown",
   "metadata": {},
   "source": [
    "#### If you only want to refine existing side-chains...\n",
    "\n",
    "If you believe your model already has resonably good side-chains, and you just want to refine them, you can use Hpacker's refinement-only option. This only runs the refinement model on the existing side-chains, so you should expect the resulting side-chains to deviate less from the input structure then when making HPacker start from zero, as done above."
   ]
  },
  {
   "cell_type": "code",
   "execution_count": 27,
   "metadata": {},
   "outputs": [],
   "source": [
    "hpacker = HPacker('T0950.pdb')\n",
    "\n",
    "# refinement only\n",
    "hpacker.refine_sidechains(num_refinement_iterations = 5,\n",
    "                          return_trace_of_predicted_angles = True)\n",
    "\n",
    "hpacker.write_pdb('refined_only_T0950.pdb')"
   ]
  },
  {
   "attachments": {},
   "cell_type": "markdown",
   "metadata": {},
   "source": [
    "You can also specify which side-chains to refine, by passing a list of residue ids to the `res_ids` argument, where each residue id has the form `(chain, resnum, icode)`."
   ]
  },
  {
   "cell_type": "code",
   "execution_count": 28,
   "metadata": {},
   "outputs": [],
   "source": [
    "hpacker = HPacker('T0950.pdb')\n",
    "\n",
    "res_ids_to_refine = hpacker.get_res_ids()[:10]\n",
    "hpacker.refine_sidechains(res_ids = res_ids_to_refine,\n",
    "                          num_refinement_iterations = 5,\n",
    "                          return_trace_of_predicted_angles = True)\n",
    "\n",
    "hpacker.write_pdb('refined_only_some_sidechains_T0950.pdb')"
   ]
  },
  {
   "cell_type": "code",
   "execution_count": null,
   "metadata": {},
   "outputs": [],
   "source": []
  },
  {
   "attachments": {},
   "cell_type": "markdown",
   "metadata": {},
   "source": [
    "## 3) Inpainting: packing just part of a structure\n",
    "\n",
    "HPacker supports inpaining, i.e. the packing of side-chains of only a *subset* of residues. This is particularly useful for applying mutations, and for designing interfaces.\n",
    "\n",
    "Below we outline how to set the parameters of `.refine_sidechains()` to cover different use cases."
   ]
  },
  {
   "attachments": {},
   "cell_type": "markdown",
   "metadata": {},
   "source": [
    "Let us first consider the case in which our input protein is missing some side-chains, and we want to add them."
   ]
  },
  {
   "cell_type": "code",
   "execution_count": 29,
   "metadata": {},
   "outputs": [],
   "source": [
    "# create such kind of protein to use as an example, which we can conveniently do with hpacker in-built functions\n",
    "hpacker = HPacker('T0950.pdb')\n",
    "hpacker.remove_sidechains_for_res_ids(hpacker.get_res_ids()[:10])\n",
    "hpacker.write_pdb('T0950_partial.pdb')"
   ]
  },
  {
   "attachments": {},
   "cell_type": "markdown",
   "metadata": {},
   "source": [
    "By default, `.refine_sidechains()` will add the side-chain of any residue that is missing it, and will further re-pack all side-chains for residues whose beta-Carbon is within 10 Angstroms of any missing side-chains' beta-Carbons. The proximity threshold can be changed by setting the `proximity_cutoff_for_refinement` parameter."
   ]
  },
  {
   "cell_type": "code",
   "execution_count": 30,
   "metadata": {},
   "outputs": [
    {
     "name": "stdout",
     "output_type": "stream",
     "text": [
      "The history saving thread hit an unexpected error (OperationalError('disk I/O error')).History will not be written to the database.\n"
     ]
    }
   ],
   "source": [
    "hpacker = HPacker('T0950_partial.pdb')\n",
    "hpacker.reconstruct_sidechains(num_refinement_iterations = 5, proximity_cutoff_for_refinement = 10.0)\n",
    "hpacker.write_pdb('T0950_partial_reconstructed_with_proximity_cutoff.pdb')"
   ]
  },
  {
   "attachments": {},
   "cell_type": "markdown",
   "metadata": {},
   "source": [
    "The cell above uses the amino-acid identities (resnames) present in the original structure to determine which side-chains to add.\n",
    "If the input structure does not contain any amino-acid information for those residues, or if you want to specify them anew, you can do so by passing in a dictionary of the form `{res_id: resname}` to the `res_id_to_resname` parameter, where `res_id` is a tuple of the form `(chain, resnum, icode)`."
   ]
  },
  {
   "cell_type": "code",
   "execution_count": 31,
   "metadata": {},
   "outputs": [],
   "source": [
    "hpacker = HPacker('T0950_partial.pdb')\n",
    "mutations = {res_id: 'TRP' for res_id in hpacker.get_res_ids()[:10]} # mutating to TRP\n",
    "hpacker.reconstruct_sidechains(num_refinement_iterations = 5, proximity_cutoff_for_refinement = 10.0, res_id_to_resname=mutations)\n",
    "hpacker.write_pdb('T0950_partial_reconstructed_with_mutations.pdb')"
   ]
  },
  {
   "attachments": {},
   "cell_type": "markdown",
   "metadata": {},
   "source": [
    "In alternative to selecting surrounding residues to re-pack via `proximity_cutoff_for_refinement`, we can also specify a list of residues via the `res_ids_to_refine` parameter. Note that these residues are re-packed *in addition* to the ones that were originally missing the side-chains."
   ]
  },
  {
   "cell_type": "code",
   "execution_count": 32,
   "metadata": {},
   "outputs": [],
   "source": [
    "hpacker = HPacker('T0950_partial.pdb')\n",
    "hpacker.reconstruct_sidechains(num_refinement_iterations = 5, res_ids_to_refine=hpacker.get_res_ids()[10:20])\n",
    "hpacker.write_pdb('T0950_partial_reconstructed_with_res_ids_to_refine.pdb')"
   ]
  },
  {
   "attachments": {},
   "cell_type": "markdown",
   "metadata": {},
   "source": [
    "##### If the input structure has all side-chains but you want to easily re-pack or apply mutations...\n",
    "\n",
    "First, if you only want to re-pack a subset of residues using the refinement model, you can use the `.refine_sidechains()` method described at the end of the previous section.\n",
    "\n",
    "If instead you want to apply some mutations in a convenient way, you can simply pass them into the `res_id_to_resname`parameter of `.reconstruct_sidechains()`. This is effectively equivalent to passing the structure without side-chains at the residues you want to mutate, just like a few cells above:"
   ]
  },
  {
   "cell_type": "code",
   "execution_count": 33,
   "metadata": {},
   "outputs": [],
   "source": [
    "hpacker = HPacker('T0950.pdb')\n",
    "mutations = {res_id: 'TRP' for res_id in hpacker.get_res_ids()[:10]} # mutating to TRP\n",
    "hpacker.reconstruct_sidechains(num_refinement_iterations = 5, proximity_cutoff_for_refinement = 10.0, res_id_to_resname=mutations)\n",
    "hpacker.write_pdb('T0950_reconstructed_with_mutations.pdb') # --> equivalent to what was saved in 'T0950_partial_reconstructed_with_mutations.pdb'"
   ]
  },
  {
   "attachments": {},
   "cell_type": "markdown",
   "metadata": {},
   "source": [
    "Setting `reconstruct_all_sidechains` to `True` will make HPacker reconstruct all side-chains, accounting for the mutations specified in `res_id_to_resname`."
   ]
  },
  {
   "cell_type": "code",
   "execution_count": 34,
   "metadata": {},
   "outputs": [
    {
     "name": "stdout",
     "output_type": "stream",
     "text": [
      "Reconstructing all sidechains from scratch\n"
     ]
    }
   ],
   "source": [
    "hpacker = HPacker('T0950.pdb')\n",
    "mutations = {res_id: 'TRP' for res_id in hpacker.get_res_ids()[:10]} # mutating to TRP\n",
    "hpacker.reconstruct_sidechains(num_refinement_iterations = 5, proximity_cutoff_for_refinement = 10.0, res_id_to_resname=mutations, reconstruct_all_sidechains=True)\n",
    "hpacker.write_pdb('T0950_reconstructed_fully_with_mutations.pdb')"
   ]
  },
  {
   "cell_type": "code",
   "execution_count": null,
   "metadata": {},
   "outputs": [],
   "source": []
  },
  {
   "attachments": {},
   "cell_type": "markdown",
   "metadata": {},
   "source": [
    "# Slow Start - the HPacker object\n",
    "\n",
    "#### Constructor\n",
    "Each HPacker object is utilized to reconstruct the side-chains of a single protein structure.\n",
    "Indeed, the constructor takes as required inputs a single PDB file, and a tuple of two paths pointing to the \"Initial Guess\" and the \"Refinement\" model directories. There are also several keyword arguments that govern pre-processing of the input structure, such as filtering out hydrogens and waters, and to remove sidechains.\n",
    "\n",
    "#### Internal Representation\n",
    "HPacker uses BioPython's PDB module to store and manipulate structures. HPacker stores three versions of the structure, as ```Bio.PDB.Structure``` objects:\n",
    "1. ```self.structure``` stores the *current* version of the structure, as it's being manipulated or reconstructed. Importantly, the backbone is never changed from the input.\n",
    "2. ```self.original_structure``` always stores the original structure passed to the constructor, after filtering but *before* removing side-chains, if the kwarg ```remove_sidechains``` is set to ```True```.\n",
    "3. ```self.copy_structure``` is a dummy structure used as a helper by the internal processes.\n",
    "\n",
    "Residue sites are uniquely identified by residue IDs (```res_id```), each consisting of the Tuple (chain, resnum, icode).\n",
    "Individual Residue objects and amino-acid types (```resname```) can be accessed using the ```res_id``` within HPacker methods.\n",
    "\n",
    "#### Useful methods\n",
    "Below is a list of *some* of the Hpacker methods that can be used to conveniently manipulate the internal representation of the protein structure\n",
    "- `get_res_ids()`\n",
    "- `get_residue(res_id)`\n",
    "- `get_resname(res_id)`\n",
    "- `update_resnames(res_id_to_resnames)`\n",
    "- `write_pdb(outputpath)`"
   ]
  },
  {
   "cell_type": "code",
   "execution_count": null,
   "metadata": {},
   "outputs": [],
   "source": []
  }
 ],
 "metadata": {
  "kernelspec": {
   "display_name": "Python 3 (ipykernel)",
   "language": "python",
   "name": "python3"
  },
  "language_info": {
   "codemirror_mode": {
    "name": "ipython",
    "version": 3
   },
   "file_extension": ".py",
   "mimetype": "text/x-python",
   "name": "python",
   "nbconvert_exporter": "python",
   "pygments_lexer": "ipython3",
   "version": "3.9.7"
  }
 },
 "nbformat": 4,
 "nbformat_minor": 4
}
