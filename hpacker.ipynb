{
 "cells": [
  {
   "cell_type": "code",
   "execution_count": 14,
   "metadata": {},
   "outputs": [],
   "source": [
    "from hpacker import HPacker\n",
    "\n",
    "# model_dirs is simply two-element tuple/list of directories containing the \"initial_guess\" and \"refinement\" models\n",
    "model_dirs = [\n",
    "    'pretrained_models/initial_guess',\n",
    "    'pretrained_models/refinement',\n",
    "]"
   ]
  },
  {
   "attachments": {},
   "cell_type": "markdown",
   "metadata": {},
   "source": [
    "# Quick Start - right to packing"
   ]
  },
  {
   "attachments": {},
   "cell_type": "markdown",
   "metadata": {},
   "source": [
    "## 1) Bare Backbone + Sequence information"
   ]
  },
  {
   "cell_type": "code",
   "execution_count": 15,
   "metadata": {},
   "outputs": [
    {
     "name": "stdout",
     "output_type": "stream",
     "text": [
      "Running on cuda.\n",
      "There are 2909192 parameters\n",
      "Running on cuda.\n",
      "There are 2751944 parameters\n"
     ]
    }
   ],
   "source": [
    "# Initialize HPacker object by passing it a tutple of paths to the pre-trained models,\n",
    "# and the backbone-only structure that we want to add side-chains to.\n",
    "hpacker = HPacker(model_dirs, 'T0950_bb_only.pdb')"
   ]
  },
  {
   "attachments": {},
   "cell_type": "markdown",
   "metadata": {},
   "source": [
    "There are **three** equivalent ways of telling HPacker which amino-acid should correspond to which site.\\\n",
    "The **first** - and simplest - way is to have the input PDB file already contain sequence information (as is the case in our working example).\n",
    "All we need to do then is a simple call to `.reconstruct_sidechains()`."
   ]
  },
  {
   "cell_type": "code",
   "execution_count": 16,
   "metadata": {},
   "outputs": [],
   "source": [
    "chi_trace = hpacker.reconstruct_sidechains(num_refinement_iterations=5, return_trace_of_predicted_angles=True)\n",
    "\n",
    "# the reconstructed structure will be saved internally in `hpacker.structure`, and can be easiuly saved in a PDB file\n",
    "hpacker.write_pdb('reconstructed_from_bb_only_T0950.pdb')"
   ]
  },
  {
   "cell_type": "code",
   "execution_count": 17,
   "metadata": {},
   "outputs": [
    {
     "name": "stdout",
     "output_type": "stream",
     "text": [
      "(' ', 12, ' '): [178.869140625]\n",
      "(' ', 13, ' '): [-46.90363693237305]\n",
      "(' ', 14, ' '): [-53.05009460449219, -32.65126419067383]\n",
      "(' ', 15, ' '): [19.594497680664062, -25.412628173828125]\n",
      "(' ', 16, ' '): [-157.41526794433594, 176.36703491210938, 175.0377197265625]\n",
      "(' ', 17, ' '): [-57.673526763916016, 170.25694274902344]\n",
      "(' ', 18, ' '): [-174.6244659423828, -20.911258697509766]\n",
      "(' ', 19, ' '): [-60.83549499511719]\n",
      "(' ', 20, ' '): [-70.23514556884766, -179.6683349609375, 176.46156311035156, 179.8834686279297]\n",
      "(' ', 21, ' '): [-63.557472229003906]\n"
     ]
    }
   ],
   "source": [
    "# `chi_trace` contains a record of the predicted chi angles across refinement iterations. it is a list of dictionaries\n",
    "# within each dictionary, chi angles for individual residues are indexed by residue IDs (res_id), which are Tuples of (chain, resnum, icode)\n",
    "initial_guess_chis = chi_trace[0]\n",
    "final_chis = chi_trace[-1]\n",
    "\n",
    "res_ids = hpacker.get_res_ids()\n",
    "for i in range(10):\n",
    "    res_id = res_ids[i]\n",
    "    print(f'{res_id}: {final_chis[res_id]}')"
   ]
  },
  {
   "cell_type": "markdown",
   "metadata": {},
   "source": [
    "The **second** way of introducing sequence information is to tell HPacker via the `.update_resnames()` method, before reconstructing."
   ]
  },
  {
   "cell_type": "code",
   "execution_count": 23,
   "metadata": {},
   "outputs": [],
   "source": [
    "res_id_to_resname = {} # dictionary: res_id --> three-letter amino-acid code\n",
    "hpacker.update_resnames(res_id_to_resname)"
   ]
  },
  {
   "cell_type": "markdown",
   "metadata": {},
   "source": [
    "**Third**, the same information can be passed directly into the reconstruction function."
   ]
  },
  {
   "cell_type": "code",
   "execution_count": 25,
   "metadata": {},
   "outputs": [],
   "source": [
    "hpacker.reconstruct_sidechains(num_refinement_iterations=5, res_id_to_resname=res_id_to_resname)"
   ]
  },
  {
   "cell_type": "code",
   "execution_count": null,
   "metadata": {},
   "outputs": [],
   "source": []
  },
  {
   "cell_type": "markdown",
   "metadata": {},
   "source": [
    "## 2) Repacking an All-Atom structure"
   ]
  },
  {
   "cell_type": "code",
   "execution_count": 18,
   "metadata": {},
   "outputs": [
    {
     "name": "stdout",
     "output_type": "stream",
     "text": [
      "Running on cuda.\n",
      "There are 2909192 parameters\n",
      "Running on cuda.\n",
      "There are 2751944 parameters\n"
     ]
    }
   ],
   "source": [
    "# when passing as input a structure that already has side-chains and that you want to re-pack from zer,\n",
    "# make sure to toggle the `remove_sidechains` flag\n",
    "hpacker = HPacker(model_dirs, 'T0950.pdb', remove_sidechains=True)"
   ]
  },
  {
   "cell_type": "code",
   "execution_count": 19,
   "metadata": {},
   "outputs": [],
   "source": [
    "# as sequence information is already available, repacking the side-chains is a one-liner\n",
    "hpacker.reconstruct_sidechains(num_refinement_iterations = 5)\n",
    "hpacker.write_pdb('reconstructed_T0950.pdb')"
   ]
  },
  {
   "cell_type": "code",
   "execution_count": 27,
   "metadata": {},
   "outputs": [],
   "source": [
    "# if you wish to mutate certain sites, just pass a dictionary containing just the mutations you'd like to apply, analogously to what we did above\n",
    "mutations = {} # dictionary: res_id --> three-letter amino-acid code\n",
    "hpacker.reconstruct_sidechains(res_id_to_resname=mutations, num_refinement_iterations=5)"
   ]
  },
  {
   "cell_type": "markdown",
   "metadata": {},
   "source": [
    "#### If you want to evaluate against ground truth...\n",
    "\n",
    "We provide a custom function that assumes the input structure is the ground truth, and returns several metrics comparing the reconstructed side-chains with the original ones"
   ]
  },
  {
   "cell_type": "code",
   "execution_count": 20,
   "metadata": {},
   "outputs": [
    {
     "name": "stdout",
     "output_type": "stream",
     "text": [
      "Running on cuda.\n",
      "There are 2909192 parameters\n",
      "Running on cuda.\n",
      "There are 2751944 parameters\n",
      "All residues: 309\n",
      "Core residues: 79\n",
      "Surface residues: 147\n",
      "Accuracy:\t76\t66\t46\t62\t\n",
      "MAE:\t19\t29\t41\t36\t\n",
      "\n",
      "All residues: 309\n",
      "Core residues: 79\n",
      "Surface residues: 147\n",
      "Accuracy:\t77\t70\t47\t62\t\n",
      "MAE:\t19\t29\t39\t36\t\n",
      "\n",
      "All residues: 309\n",
      "Core residues: 79\n",
      "Surface residues: 147\n",
      "Accuracy:\t76\t69\t49\t66\t\n",
      "MAE:\t18\t27\t38\t34\t\n",
      "\n",
      "All residues: 309\n",
      "Core residues: 79\n",
      "Surface residues: 147\n",
      "Accuracy:\t77\t71\t48\t66\t\n",
      "MAE:\t18\t27\t38\t36\t\n",
      "\n",
      "All residues: 309\n",
      "Core residues: 79\n",
      "Surface residues: 147\n",
      "Accuracy:\t76\t69\t49\t64\t\n",
      "MAE:\t19\t28\t37\t38\t\n",
      "\n",
      "All residues: 309\n",
      "Core residues: 79\n",
      "Surface residues: 147\n",
      "Accuracy:\t77\t70\t47\t66\t\n",
      "MAE:\t18\t27\t38\t36\t\n",
      "\n",
      "tensor([18.4910, 27.3548, 38.4252, 36.0798], dtype=torch.float64)\n",
      "dict_keys(['all', 'core', 'surface'])\n",
      "(' ', 12, ' '): 0.107 Angstroms\n",
      "(' ', 13, ' '): 1.929 Angstroms\n",
      "(' ', 14, ' '): 0.298 Angstroms\n",
      "(' ', 15, ' '): 0.497 Angstroms\n",
      "(' ', 16, ' '): 2.035 Angstroms\n",
      "(' ', 17, ' '): 0.182 Angstroms\n",
      "(' ', 18, ' '): 0.294 Angstroms\n",
      "(' ', 19, ' '): 0.181 Angstroms\n",
      "(' ', 20, ' '): 2.930 Angstroms\n",
      "(' ', 21, ' '): 0.107 Angstroms\n"
     ]
    }
   ],
   "source": [
    "hpacker = HPacker(model_dirs, 'T0950.pdb', remove_sidechains=True)\n",
    "\n",
    "metrics = hpacker.reconstruct_sidechains_and_evaluate(num_refinement_iterations = 5)\n",
    "\n",
    "mae_per_angle_4, accuracy_per_angle_4, real_chis, predicted_chis, aas, res_ids_dict, rmsds = metrics\n",
    "\n",
    "print(mae_per_angle_4)\n",
    "print(rmsds.keys())\n",
    "res_id_to_rmsd = dict(zip(res_ids_dict['all'], rmsds['all']))\n",
    "for i in range(10):\n",
    "    print('%s: %.3f Angstroms' % (res_ids_dict['all'][i], rmsds['all'][i]))"
   ]
  },
  {
   "cell_type": "markdown",
   "metadata": {},
   "source": [
    "#### If you only want to refine existing side-chains...\n",
    "\n",
    "If you believe your model already has resonably good side-chains, and you just want to refine them, you can use Hpacker's refinement-only option. This only runs the refinement model on the existing side-chains, so you should expect the resulting side-chains to deviate less from the input structure then when making HPacker start from zero, as done above."
   ]
  },
  {
   "cell_type": "code",
   "execution_count": 21,
   "metadata": {},
   "outputs": [
    {
     "name": "stdout",
     "output_type": "stream",
     "text": [
      "Running on cuda.\n",
      "There are 2909192 parameters\n",
      "Running on cuda.\n",
      "There are 2751944 parameters\n"
     ]
    }
   ],
   "source": [
    "# just don't toggle `remove_sidechains`\n",
    "hpacker = HPacker(model_dirs, 'T0950.pdb', remove_sidechains=True)\n",
    "\n",
    "# refinement only\n",
    "hpacker.refine_sidechains(num_refinement_iterations = 5, return_trace_of_predicted_angles = True)\n",
    "\n",
    "hpacker.write_pdb('refined_only_T0950.pdb')"
   ]
  },
  {
   "cell_type": "code",
   "execution_count": null,
   "metadata": {},
   "outputs": [],
   "source": []
  },
  {
   "cell_type": "markdown",
   "metadata": {},
   "source": [
    "## 3) Partial packing\n",
    "\n",
    "Unfortunately, the option of packing only some side-chains is not currently available, but it will be soon."
   ]
  },
  {
   "cell_type": "code",
   "execution_count": null,
   "metadata": {},
   "outputs": [],
   "source": []
  },
  {
   "cell_type": "code",
   "execution_count": null,
   "metadata": {},
   "outputs": [],
   "source": []
  },
  {
   "attachments": {},
   "cell_type": "markdown",
   "metadata": {},
   "source": [
    "# Slow Start - the HPacker object\n",
    "\n",
    "#### Constructor\n",
    "Each HPacker object is utilized to reconstruct the side-chains of a single protein structure.\n",
    "Indeed, the constructor takes as required inputs a single PDB file, and a tuple of two paths pointing to the \"Initial Guess\" and the \"Refinement\" model directories. There are also several keyword arguments that govern pre-processing of the input structure, such as filtering out hydrogens and waters, and to remove sidechains.\n",
    "\n",
    "#### Internal Representation\n",
    "HPacker uses BioPython's PDB module to store and manipulate structures. HPacker stores three versions of the structure, as ```Bio.PDB.Structure``` objects:\n",
    "1. ```self.structure``` stores the *current* version of the structure, as it's being manipulated or reconstructed. Importantly, the backbone is never changed from the input.\n",
    "2. ```self.original_structure``` always stores the original structure passed to the constructor, after filtering but *before* removing side-chains, if the kwarg ```remove_sidechains``` is set to ```True```.\n",
    "3. ```self.copy_structure``` is a dummy structure used as a helper by the internal processes.\n",
    "\n",
    "Residue sites are uniquely identified by residue IDs (```res_id```), each consisting of the Tuple (chain, resnum, icode).\n",
    "Individual Residue objects and amino-acid types (```resname```) can be accessed using the ```res_id``` within HPacker methods.\n",
    "\n",
    "#### Useful methods\n",
    "Below is a list of *some* of the Hpacker methods that can be used to conveniently manipulate the internal representation of the protein structure\n",
    "- `get_res_ids()`\n",
    "- `get_residue(res_id)`\n",
    "- `get_resname(res_id)`\n",
    "- `update_resnames(res_id_to_resnames)`\n",
    "- `write_pdb(outputpath)`"
   ]
  },
  {
   "cell_type": "code",
   "execution_count": null,
   "metadata": {},
   "outputs": [],
   "source": []
  }
 ],
 "metadata": {
  "kernelspec": {
   "display_name": "Python 3 (ipykernel)",
   "language": "python",
   "name": "python3"
  },
  "language_info": {
   "codemirror_mode": {
    "name": "ipython",
    "version": 3
   },
   "file_extension": ".py",
   "mimetype": "text/x-python",
   "name": "python",
   "nbconvert_exporter": "python",
   "pygments_lexer": "ipython3",
   "version": "3.9.7"
  }
 },
 "nbformat": 4,
 "nbformat_minor": 4
}
